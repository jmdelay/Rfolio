{
  "cells": [
    {
      "cell_type": "raw",
      "metadata": {},
      "source": [
        "---\n",
        "title: ICD Codes\n",
        "author: J. Mac DeLay\n",
        "---"
      ],
      "id": "d52f609a"
    },
    {
      "cell_type": "code",
      "metadata": {},
      "source": [
        "#| echo: false\n",
        "#| warning: false\n",
        "from difflib import SequenceMatcher\n",
        "import pandas as pd\n",
        "import numpy as np\n",
        "from sklearn.cluster import AgglomerativeClustering\n",
        "import matplotlib.pyplot as plt\n",
        "from scipy.spatial.distance import squareform\n",
        "from sklearn.metrics import silhouette_score\n",
        "import re\n",
        "# from collection import Counter"
      ],
      "id": "179e0830",
      "execution_count": null,
      "outputs": []
    },
    {
      "cell_type": "markdown",
      "metadata": {},
      "source": [
        "The goal is to cluster together groups of similar ICD codes to aggregate any administrative statistics into intelligible categories.\n"
      ],
      "id": "2883c9da"
    },
    {
      "cell_type": "code",
      "metadata": {},
      "source": [
        "icd= pd.read_excel(\"C:\\\\Users\\\\macde\\\\OneDrive\\\\Desktop\\\\Projects\\\\Section111ValidICD10-Jan2023-DupFixed.xlsx\")\n",
        "icd['prefix'] = icd['CODE'].str.slice(0,1)\n",
        "icd = icd[icd['prefix']=='F']\n",
        "icd = icd.reset_index()\n",
        "icd['index'] = icd.index"
      ],
      "id": "9f6545c4",
      "execution_count": null,
      "outputs": []
    },
    {
      "cell_type": "markdown",
      "metadata": {},
      "source": [
        "Here we're just looking at F-category (mental/psych) codes. This saves us a little computing power and accuracy because the letters are intended to capture some similarity among codes.\n"
      ],
      "id": "1f936395"
    },
    {
      "cell_type": "code",
      "metadata": {},
      "source": [
        "stopwords = ['the', 'of', 'and', 'with', 'without', 'other', 'to', 'due', 'a', 'specified', 'unspecified']\n",
        "\n",
        "def str_cleaner(str_in):\n",
        "  str_in = str_in.lower()\n",
        "  str_list = str_in.split()\n",
        "  \n",
        "  resultwords = [word for word in str_list if word.lower() not in stopwords]\n",
        "  result = ' '.join(resultwords)\n",
        "  \n",
        "  str_out = re.sub(r'\\W+', '', result)\n",
        "  \n",
        "  return str_out\n",
        "\n",
        "icd['str_out'] = icd[\"SHORT DESCRIPTION (VALID ICD-10 FY2023)\"].apply(str_cleaner)\n",
        "icd"
      ],
      "id": "adb02612",
      "execution_count": null,
      "outputs": []
    },
    {
      "cell_type": "markdown",
      "metadata": {},
      "source": [
        "asdf"
      ],
      "id": "2f139e4b"
    },
    {
      "cell_type": "code",
      "metadata": {},
      "source": [
        "N = len(icd)\n",
        "dist_mat = np.zeros([N,N])\n",
        "\n",
        "for i in range(N):\n",
        "  for j in range(i):\n",
        "    wi = icd.loc[i,'str_out']\n",
        "    wj = icd.loc[j,'str_out']\n",
        "    if i==j:\n",
        "      simm = 1\n",
        "    else:\n",
        "      simm = SequenceMatcher(None,wi, wj).ratio()\n",
        "    dist_mat[i,j] = simm\n",
        "    dist_mat[j,i] = simm\n",
        "    \n",
        "dist_mat = 1-dist_mat"
      ],
      "id": "64a12901",
      "execution_count": null,
      "outputs": []
    },
    {
      "cell_type": "code",
      "metadata": {},
      "source": [
        "plt.figure(figsize=(7,7))\n",
        "plt.imshow(dist_mat,cmap='hot')\n",
        "plt.show()\n"
      ],
      "id": "c3193220",
      "execution_count": null,
      "outputs": []
    },
    {
      "cell_type": "markdown",
      "metadata": {},
      "source": [
        "A range of 859 ICD-10 codes is now grouped into 282 families.\n",
        "\n",
        "Choices that impact clustering:\n",
        "\n",
        "-   Tokenizing\n",
        "\n",
        "-   Distance function\n",
        "\n",
        "-   agg vs div vs other clustering\n",
        "\n",
        "-   AGNES method\n",
        "\n",
        "-   number of groups\n",
        "\n",
        "## To-Do:\n",
        "\n",
        "Investigate a loss function to search parameters and reduce analyst intervention."
      ],
      "id": "73804321"
    }
  ],
  "metadata": {
    "kernelspec": {
      "display_name": "Python 3",
      "language": "python",
      "name": "python3"
    }
  },
  "nbformat": 4,
  "nbformat_minor": 5
}