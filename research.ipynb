{
  "cells": [
    {
      "cell_type": "raw",
      "metadata": {},
      "source": [
        "---\n",
        "title: Research\n",
        "author: J. Mac DeLay\n",
        "---"
      ],
      "id": "28cd807c"
    },
    {
      "cell_type": "markdown",
      "metadata": {},
      "source": [
        "![](images/poster-01.png)\n",
        "\n",
        "![](images/HA_poster-1.png)"
      ],
      "id": "c99693bb"
    }
  ],
  "metadata": {
    "kernelspec": {
      "display_name": "Python 3",
      "language": "python",
      "name": "python3"
    }
  },
  "nbformat": 4,
  "nbformat_minor": 5
}